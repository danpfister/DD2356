{
 "cells": [
  {
   "cell_type": "code",
   "execution_count": null,
   "id": "5e38b433",
   "metadata": {},
   "outputs": [],
   "source": [
    "import os\n",
    "import re\n",
    "import numpy as np\n",
    "import matplotlib.pyplot as plt"
   ]
  },
  {
   "cell_type": "code",
   "execution_count": null,
   "id": "fbdb7990",
   "metadata": {},
   "outputs": [],
   "source": [
    "# Directory where your data files are stored\n",
    "data_folder = 'outputs'\n",
    "file_pattern = r\"mode_(\\d+)_threads_(\\d+)\\.txt\"\n",
    "modes = {0: \"serial\", 1: \"omp\", 2: \"omp-critical\", 3: \"omp-local\", 4: \"opt-local\"}"
   ]
  },
  {
   "cell_type": "code",
   "execution_count": 18,
   "id": "4cc52966",
   "metadata": {},
   "outputs": [
    {
     "name": "stdout",
     "output_type": "stream",
     "text": [
      "mode_0_threads_1.txt: Mode serial, Threads 1\n",
      "  Mean = 0.325, Std Dev = 0.000\n",
      "mode_1_threads_1.txt: Mode omp, Threads 1\n",
      "  Mean = 0.338, Std Dev = 0.001\n",
      "mode_1_threads_16.txt: Mode omp, Threads 16\n",
      "  Mean = 0.407, Std Dev = 0.001\n",
      "mode_1_threads_2.txt: Mode omp, Threads 2\n",
      "  Mean = 0.455, Std Dev = 0.001\n",
      "mode_1_threads_20.txt: Mode omp, Threads 20\n",
      "  Mean = 0.440, Std Dev = 0.001\n",
      "mode_1_threads_24.txt: Mode omp, Threads 24\n",
      "  Mean = 0.460, Std Dev = 0.004\n",
      "mode_1_threads_28.txt: Mode omp, Threads 28\n",
      "  Mean = 0.486, Std Dev = 0.001\n",
      "mode_1_threads_32.txt: Mode omp, Threads 32\n",
      "  Mean = 0.505, Std Dev = 0.001\n",
      "mode_1_threads_4.txt: Mode omp, Threads 4\n",
      "  Mean = 0.438, Std Dev = 0.000\n",
      "mode_1_threads_8.txt: Mode omp, Threads 8\n",
      "  Mean = 0.405, Std Dev = 0.001\n",
      "mode_2_threads_1.txt: Mode omp-critical, Threads 1\n",
      "  Mean = 1.152, Std Dev = 0.002\n",
      "mode_2_threads_16.txt: Mode omp-critical, Threads 16\n",
      "  Mean = 43.941, Std Dev = 2.702\n",
      "mode_2_threads_2.txt: Mode omp-critical, Threads 2\n",
      "  Mean = 3.544, Std Dev = 0.002\n",
      "mode_2_threads_20.txt: Mode omp-critical, Threads 20\n",
      "  Mean = 42.634, Std Dev = 0.921\n",
      "mode_2_threads_24.txt: Mode omp-critical, Threads 24\n",
      "  Mean = 37.890, Std Dev = 1.354\n",
      "mode_2_threads_28.txt: Mode omp-critical, Threads 28\n",
      "  Mean = 36.181, Std Dev = 0.700\n",
      "mode_2_threads_32.txt: Mode omp-critical, Threads 32\n",
      "  Mean = 33.788, Std Dev = 0.694\n",
      "mode_2_threads_4.txt: Mode omp-critical, Threads 4\n",
      "  Mean = 6.888, Std Dev = 0.090\n",
      "mode_2_threads_8.txt: Mode omp-critical, Threads 8\n",
      "  Mean = 36.737, Std Dev = 2.247\n",
      "mode_3_threads_1.txt: Mode omp-local, Threads 1\n",
      "  Mean = 0.329, Std Dev = 0.000\n",
      "mode_3_threads_128.txt: Mode omp-local, Threads 128\n",
      "  Mean = 0.225, Std Dev = 0.004\n",
      "mode_3_threads_32.txt: Mode omp-local, Threads 32\n",
      "  Mean = 0.207, Std Dev = 0.004\n",
      "mode_3_threads_64.txt: Mode omp-local, Threads 64\n",
      "  Mean = 0.305, Std Dev = 0.008\n",
      "mode_4_threads_1.txt: Mode opt-local, Threads 1\n",
      "  Mean = 0.337, Std Dev = 0.000\n",
      "mode_4_threads_128.txt: Mode opt-local, Threads 128\n",
      "  Mean = 0.206, Std Dev = 0.006\n",
      "mode_4_threads_32.txt: Mode opt-local, Threads 32\n",
      "  Mean = 0.188, Std Dev = 0.004\n",
      "mode_4_threads_64.txt: Mode opt-local, Threads 64\n",
      "  Mean = 0.195, Std Dev = 0.001\n"
     ]
    }
   ],
   "source": [
    "# Discover and process each file individually\n",
    "for filename in sorted(os.listdir(data_folder)):\n",
    "    match = re.match(file_pattern, filename)\n",
    "    if not match:\n",
    "        continue\n",
    "\n",
    "    mode = int(match.group(1))\n",
    "    threads = int(match.group(2))\n",
    "    file_path = os.path.join(data_folder, filename)\n",
    "\n",
    "    # Load data\n",
    "    with open(file_path, 'r') as f:\n",
    "        data = np.array([float(line.strip()) for line in f if line.strip()])\n",
    "\n",
    "    # Statistics\n",
    "    mean = np.mean(data)\n",
    "    std = np.std(data)\n",
    "    print(f\"{filename}: Mode {modes[mode]}, Threads {threads}\")\n",
    "    print(f\"  Mean = {mean:.3f}, Std Dev = {std:.3f}\")\n",
    "\n",
    "    # Plot\n",
    "    plt.figure(figsize=(5, 5))\n",
    "    x = np.random.normal(1, 0.02, size=len(data))  # Jittered x around 1\n",
    "    plt.scatter(x, data, alpha=0.6)\n",
    "    plt.hlines(mean, 0.8, 1.2, colors='red', label='Mean')\n",
    "    plt.title(f\"Mode {modes[mode]}, Threads {threads}\")\n",
    "    plt.xlim(0.5, 1.5)\n",
    "    #plt.ylim(0.4, 0.6)\n",
    "    plt.xticks([])\n",
    "    plt.ylabel(\"Value\")\n",
    "    plt.legend()\n",
    "    plt.tight_layout()\n",
    "    plt.savefig(f\"figures/mode_{modes[mode]}_threads_{threads}.png\", bbox_inches='tight')\n",
    "    #plt.show()\n",
    "    plt.close()"
   ]
  },
  {
   "cell_type": "code",
   "execution_count": null,
   "id": "aeba5c2b",
   "metadata": {},
   "outputs": [],
   "source": []
  }
 ],
 "metadata": {
  "kernelspec": {
   "display_name": "Python 3",
   "language": "python",
   "name": "python3"
  },
  "language_info": {
   "codemirror_mode": {
    "name": "ipython",
    "version": 3
   },
   "file_extension": ".py",
   "mimetype": "text/x-python",
   "name": "python",
   "nbconvert_exporter": "python",
   "pygments_lexer": "ipython3",
   "version": "3.10.12"
  }
 },
 "nbformat": 4,
 "nbformat_minor": 5
}
